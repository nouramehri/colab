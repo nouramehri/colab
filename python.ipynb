{
  "cells": [
    {
      "cell_type": "markdown",
      "metadata": {
        "id": "view-in-github",
        "colab_type": "text"
      },
      "source": [
        "<a href=\"https://colab.research.google.com/github/nouramehri/colab/blob/main/python.ipynb\" target=\"_parent\"><img src=\"https://colab.research.google.com/assets/colab-badge.svg\" alt=\"Open In Colab\"/></a>"
      ]
    },
    {
      "cell_type": "code",
      "execution_count": null,
      "metadata": {
        "id": "4TMd1eZjemzK"
      },
      "outputs": [],
      "source": []
    },
    {
      "cell_type": "markdown",
      "metadata": {
        "id": "GHKYje9yen2t"
      },
      "source": [
        "# compte rendu\n",
        "**ex1**\n",
        "#int x= 10; # This line is commented out to avoid the\n",
        "\n",
        "*   Élément de liste\n",
        "*   Élément de liste\n",
        "\n",
        "SyntaxError in Python.\n",
        "# In Python, you would simply write:\n",
        "x = 10\n",
        "\n"
      ]
    },
    {
      "cell_type": "code",
      "execution_count": null,
      "metadata": {
        "id": "2EhKvvz1e0Gp"
      },
      "outputs": [],
      "source": [
        "# Python\n",
        "x = 10\n",
        "# Java\n",
        "int x= 10;\n",
        "\n",
        "\n"
      ]
    },
    {
      "cell_type": "markdown",
      "metadata": {
        "id": "6ncUS4l-goqx"
      },
      "source": [
        "# ex 2\n",
        "Ce code montre que Python permet de changer le type d'une variable à tout moment (typage dynamique)."
      ]
    },
    {
      "cell_type": "code",
      "execution_count": null,
      "metadata": {
        "id": "QPoSsL9QgrrK"
      },
      "outputs": [],
      "source": [
        "x = 10\n",
        "x = 'hello'"
      ]
    },
    {
      "cell_type": "markdown",
      "metadata": {
        "id": "D0GmJVurhLzM"
      },
      "source": []
    },
    {
      "cell_type": "markdown",
      "metadata": {
        "id": "OP8MdJOyhVKV"
      },
      "source": [
        "# ex3"
      ]
    },
    {
      "cell_type": "code",
      "execution_count": null,
      "metadata": {
        "id": "KJtfRyfVhZi2"
      },
      "outputs": [],
      "source": [
        "class Person: # Define the Person class\n",
        "    def __init__(self, name, age): # Define the constructor method\n",
        "        self.name = name\n",
        "        self.age = age\n",
        "\n",
        "ali = Person(\"ali\", 24)\n",
        "ali = Person(\"ali\", \"24\")"
      ]
    },
    {
      "cell_type": "markdown",
      "metadata": {
        "id": "18JxZ_gXh5V-"
      },
      "source": [
        "# ex4"
      ]
    },
    {
      "cell_type": "markdown",
      "metadata": {
        "id": "X-Z_ODXNjZX5"
      },
      "source": [
        "err @dataclass is not defind\n",
        "dans cette ex absance d'instalation biblotheque pydantic email\n",
        "donc  install par la commande pip install"
      ]
    },
    {
      "cell_type": "code",
      "execution_count": null,
      "metadata": {
        "colab": {
          "base_uri": "https://localhost:8080/"
        },
        "id": "PYSq8JhBjM9H",
        "outputId": "53930d4a-7ce0-48ca-f295-13102a76162d"
      },
      "outputs": [
        {
          "name": "stdout",
          "output_type": "stream",
          "text": [
            "Requirement already satisfied: pydantic[email] in /usr/local/lib/python3.11/dist-packages (2.11.3)\n",
            "Requirement already satisfied: annotated-types>=0.6.0 in /usr/local/lib/python3.11/dist-packages (from pydantic[email]) (0.7.0)\n",
            "Requirement already satisfied: pydantic-core==2.33.1 in /usr/local/lib/python3.11/dist-packages (from pydantic[email]) (2.33.1)\n",
            "Requirement already satisfied: typing-extensions>=4.12.2 in /usr/local/lib/python3.11/dist-packages (from pydantic[email]) (4.13.1)\n",
            "Requirement already satisfied: typing-inspection>=0.4.0 in /usr/local/lib/python3.11/dist-packages (from pydantic[email]) (0.4.0)\n",
            "Collecting email-validator>=2.0.0 (from pydantic[email])\n",
            "  Downloading email_validator-2.2.0-py3-none-any.whl.metadata (25 kB)\n",
            "Collecting dnspython>=2.0.0 (from email-validator>=2.0.0->pydantic[email])\n",
            "  Downloading dnspython-2.7.0-py3-none-any.whl.metadata (5.8 kB)\n",
            "Requirement already satisfied: idna>=2.0.0 in /usr/local/lib/python3.11/dist-packages (from email-validator>=2.0.0->pydantic[email]) (3.10)\n",
            "Downloading email_validator-2.2.0-py3-none-any.whl (33 kB)\n",
            "Downloading dnspython-2.7.0-py3-none-any.whl (313 kB)\n",
            "\u001b[2K   \u001b[90m━━━━━━━━━━━━━━━━━━━━━━━━━━━━━━━━━━━━━━━━\u001b[0m \u001b[32m313.6/313.6 kB\u001b[0m \u001b[31m8.0 MB/s\u001b[0m eta \u001b[36m0:00:00\u001b[0m\n",
            "\u001b[?25hInstalling collected packages: dnspython, email-validator\n",
            "Successfully installed dnspython-2.7.0 email-validator-2.2.0\n"
          ]
        }
      ],
      "source": [
        "pip install pydantic[email]\n"
      ]
    },
    {
      "cell_type": "code",
      "execution_count": null,
      "metadata": {
        "id": "HzN9TZKOi2tq"
      },
      "outputs": [],
      "source": [
        "@dataclass\n",
        "class Person:\n",
        "    name: str\n",
        "    age: str\n",
        "\n",
        "# Using Pydantic\n",
        "class Person(BaseModel):\n",
        "    name: str\n",
        "    email: EmailStr\n",
        "    account_id: int\n",
        "\n"
      ]
    },
    {
      "cell_type": "markdown",
      "metadata": {
        "id": "BySVPYMQkKjq"
      },
      "source": [
        "# ex 5\n",
        " Installe Pydantic pour la validation de données en Python\n"
      ]
    },
    {
      "cell_type": "code",
      "execution_count": null,
      "metadata": {
        "colab": {
          "base_uri": "https://localhost:8080/"
        },
        "id": "TQyyn8rkkarq",
        "outputId": "7e90be72-cda6-4adc-b8b3-f4f67bc7cf37"
      },
      "outputs": [
        {
          "name": "stdout",
          "output_type": "stream",
          "text": [
            "Requirement already satisfied: pydantic in /usr/local/lib/python3.11/dist-packages (2.11.3)\n",
            "Requirement already satisfied: annotated-types>=0.6.0 in /usr/local/lib/python3.11/dist-packages (from pydantic) (0.7.0)\n",
            "Requirement already satisfied: pydantic-core==2.33.1 in /usr/local/lib/python3.11/dist-packages (from pydantic) (2.33.1)\n",
            "Requirement already satisfied: typing-extensions>=4.12.2 in /usr/local/lib/python3.11/dist-packages (from pydantic) (4.13.1)\n",
            "Requirement already satisfied: typing-inspection>=0.4.0 in /usr/local/lib/python3.11/dist-packages (from pydantic) (0.4.0)\n"
          ]
        }
      ],
      "source": [
        "pip install pydantic"
      ]
    },
    {
      "cell_type": "markdown",
      "metadata": {
        "id": "deXjmjNDkfMH"
      },
      "source": [
        "# ex6\n",
        "Définit un modèle User avec validation automatique des types grâce à Pydantic\n"
      ]
    },
    {
      "cell_type": "code",
      "execution_count": null,
      "metadata": {
        "id": "SigTzlf9ki59"
      },
      "outputs": [],
      "source": [
        "from pydantic import BaseModel\n",
        "\n",
        "class User(BaseModel):\n",
        "    name: str\n",
        "    email: str\n",
        "    account_id: int"
      ]
    },
    {
      "cell_type": "markdown",
      "metadata": {
        "id": "zdCHyCR2kuKv"
      },
      "source": [
        "## ex7\n",
        "Crée une instance de User avec des données validées automatiquement\n"
      ]
    },
    {
      "cell_type": "code",
      "execution_count": null,
      "metadata": {
        "id": "W9F5FE_mk1y1"
      },
      "outputs": [],
      "source": [
        "user = User(\n",
        "    name = \"Salah\",\n",
        "    email = \"salah@gmail.com\",\n",
        "    account_id = 12345\n",
        ")"
      ]
    },
    {
      "cell_type": "markdown",
      "metadata": {
        "id": "m_tgi5GRlOGO"
      },
      "source": [
        "## ex8\n",
        "Le **user_data permet de passer les éléments du dictionnaire comme arguments nommés au constructeur de la classe User"
      ]
    },
    {
      "cell_type": "code",
      "execution_count": null,
      "metadata": {
        "id": "N4Yc77-SlVRr"
      },
      "outputs": [],
      "source": [
        "user_data = {\n",
        "    'name': 'Salah',\n",
        "    'email': 'salah@gmail.com',\n",
        "    'account_id': 12345\n",
        "}\n",
        "\n",
        "user = User(**user_data)"
      ]
    },
    {
      "cell_type": "markdown",
      "metadata": {
        "id": "iMefHPvllsRp"
      },
      "source": [
        "## ex9\n",
        "l'affichage de bloc user_data"
      ]
    },
    {
      "cell_type": "code",
      "execution_count": null,
      "metadata": {
        "colab": {
          "base_uri": "https://localhost:8080/"
        },
        "id": "9ru-QrMQl3i2",
        "outputId": "db4d4370-94e8-4834-a6bf-99d6bc20a8e0"
      },
      "outputs": [
        {
          "name": "stdout",
          "output_type": "stream",
          "text": [
            "Salah\n",
            "salah@gmail.com\n",
            "12345\n"
          ]
        }
      ],
      "source": [
        "print(user.name)\n",
        "print(user.email)\n",
        "print(user.account_id)"
      ]
    },
    {
      "cell_type": "markdown",
      "metadata": {
        "id": "y6fSctXtmOit"
      },
      "source": [
        "## ex10\n",
        "# Crée un objet User avec des types str, mais sans validation du format (ex: email mal formé accepté)\n"
      ]
    },
    {
      "cell_type": "code",
      "execution_count": null,
      "metadata": {
        "colab": {
          "base_uri": "https://localhost:8080/"
        },
        "id": "TfqNcDnfmTeE",
        "outputId": "6104824b-89f9-4767-a514-fad25b5d2468"
      },
      "outputs": [
        {
          "name": "stdout",
          "output_type": "stream",
          "text": [
            "name='Ali' email='ali@gmailcom' account_id='hello'\n"
          ]
        }
      ],
      "source": [
        "from pydantic import BaseModel\n",
        "\n",
        "class User(BaseModel):\n",
        "    name: str\n",
        "    email: str\n",
        "    account_id: str\n",
        "\n",
        "# It will fail and show a validation error\n",
        "user = User(name = 'Ali', email = 'ali@gmailcom', account_id = 'hello')\n",
        "print(user)"
      ]
    },
    {
      "cell_type": "markdown",
      "metadata": {
        "id": "cfYzqq-1nQia"
      },
      "source": [
        "## ex11\n",
        "Si on remplaçait email='ali12@gmail.com' par email='ali' (adresse invalide), Pydantic lèverait automatiquement une erreur de validation car 'ali' n’est pas une adresse e-mail correcte selon le format attendu (EmailStr). Cela montre l’utilité de Pydantic pour sécuriser les données entrantes."
      ]
    },
    {
      "cell_type": "code",
      "execution_count": null,
      "metadata": {
        "colab": {
          "base_uri": "https://localhost:8080/"
        },
        "id": "M_Luf-sKnVCW",
        "outputId": "bd105a28-41e6-49b2-a3a3-bc778b69a11a"
      },
      "outputs": [
        {
          "name": "stdout",
          "output_type": "stream",
          "text": [
            "name='Ali' email='ali12@gmail.com' account_id=1234\n"
          ]
        }
      ],
      "source": [
        "from pydantic import BaseModel, EmailStr\n",
        "\n",
        "class User(BaseModel):\n",
        "    name: str\n",
        "    email: EmailStr\n",
        "    account_id: int\n",
        "\n",
        "# It will fail and show a validation error with email = 'ali'\n",
        "user = User(name = 'Ali', email = 'ali12@gmail.com', account_id = 1234)\n",
        "print(user)"
      ]
    },
    {
      "cell_type": "markdown",
      "metadata": {
        "id": "TxV7Q0n9Fcjt"
      },
      "source": [
        "# ex12\n",
        "\n",
        " Cette fonction ajoute une règle : `account_id` doit être positif. Même si le type est bon, `@field_validator` permet de valider automatiquement la valeur à la création d’un objet `User`."
      ]
    },
    {
      "cell_type": "code",
      "execution_count": null,
      "metadata": {
        "id": "tYP4ZsoNFegB"
      },
      "outputs": [],
      "source": [
        "@field_validator(\"account_id\")\n",
        "def validate_account_id(cls, value):\n",
        "    if value <= 0:\n",
        "        raise ValueError(f\"account_id must be positive: {value}\")\n",
        "    return value"
      ]
    },
    {
      "cell_type": "markdown",
      "metadata": {
        "id": "mFdDxCPeGZAu"
      },
      "source": [
        "# **ex13**\n",
        "erreur  user is not defined\n",
        "pydantic[email] installe Pydantic ainsi que les outils nécessaires à la validation des emails.\n",
        " pip install pydantic[email]\n",
        "\n"
      ]
    },
    {
      "cell_type": "code",
      "execution_count": null,
      "metadata": {
        "colab": {
          "base_uri": "https://localhost:8080/"
        },
        "id": "TvOQxXYzHmZc",
        "outputId": "ecc3b27e-af7e-4476-d946-d912c25241fc"
      },
      "outputs": [
        {
          "name": "stdout",
          "output_type": "stream",
          "text": [
            "name='Ali' email='ali@egmail.com' account_id=12\n"
          ]
        }
      ],
      "source": [
        "pip install pydantic[email]\n",
        "\n",
        "\n",
        "\n",
        "user = User(name='Ali', email='ali@egmail.com', account_id=12)\n",
        "print(user)"
      ]
    },
    {
      "cell_type": "markdown",
      "metadata": {
        "id": "6R5ZgY3aImTQ"
      },
      "source": [
        "## ex14\n",
        "# Sérialisation JSON\n",
        "user.model_dump_json() : Cette méthode permet de transformer les données du modèle User en une chaîne de caractères au format JSON. Cela peut être utile lorsque tu veux envoyer ou stocker les données d'un objet Pydantic sous forme de JSON (par exemple, pour une API ou un fichier).\n",
        "\n",
        "print(user_json_str) : Cela va afficher la chaîne JSON générée.\n"
      ]
    },
    {
      "cell_type": "code",
      "execution_count": null,
      "metadata": {
        "colab": {
          "base_uri": "https://localhost:8080/"
        },
        "id": "DtCLy_FfJZni",
        "outputId": "67118966-a347-4991-f697-c066bd32d494"
      },
      "outputs": [
        {
          "name": "stdout",
          "output_type": "stream",
          "text": [
            "{\"name\":\"Ali\",\"email\":\"ali@egmail.com\",\"account_id\":12}\n"
          ]
        }
      ],
      "source": [
        "user_json_str = user.model_dump_json()\n",
        "# this will return a JSON strinf representation of the model's data\n",
        "print(user_json_str)"
      ]
    },
    {
      "cell_type": "markdown",
      "metadata": {
        "id": "sYY6SWzKj9Xw"
      },
      "source": []
    },
    {
      "cell_type": "markdown",
      "metadata": {
        "id": "hUg22oZ-JuLx"
      },
      "source": [
        "## ex15\n",
        "Cette sortie affiche un dictionnaire avec les données de l'utilisateur : son nom, son e-mail et son ID de compte."
      ]
    },
    {
      "cell_type": "code",
      "execution_count": null,
      "metadata": {
        "colab": {
          "base_uri": "https://localhost:8080/"
        },
        "id": "JE38c-WNJyTD",
        "outputId": "ea47fb26-97de-4e5d-e49a-fdf19b43df95"
      },
      "outputs": [
        {
          "data": {
            "text/plain": [
              "{'name': 'Ali', 'email': 'ali@gmail.com', 'account_id': 1234}"
            ]
          },
          "execution_count": 20,
          "metadata": {},
          "output_type": "execute_result"
        }
      ],
      "source": [
        "{\"name\": \"Ali\", \"email\": \"ali@gmail.com\", \"account_id\": 1234}"
      ]
    },
    {
      "cell_type": "markdown",
      "metadata": {
        "id": "pJ1xEJTJKXaj"
      },
      "source": [
        "## ex16\n",
        "`user.model_dump()` convertit un modèle Pydantic en un dictionnaire Python, utile pour manipuler ou envoyer les données sous un format structuré."
      ]
    },
    {
      "cell_type": "code",
      "execution_count": null,
      "metadata": {
        "id": "DuapxlHbKYeK"
      },
      "outputs": [],
      "source": [
        "user_json_obj = user.model_dump()"
      ]
    },
    {
      "cell_type": "markdown",
      "metadata": {
        "id": "i80YWD4KKp9g"
      },
      "source": [
        "## ex17\n",
        "`user.parse_raw(json_str)` convertit une chaîne JSON en un objet Pydantic pour validation et manipulation."
      ]
    },
    {
      "cell_type": "code",
      "execution_count": null,
      "metadata": {
        "colab": {
          "base_uri": "https://localhost:8080/"
        },
        "id": "5-HVOcgvKue0",
        "outputId": "8e817771-35bb-4550-b4f0-92bb56c771cc"
      },
      "outputs": [
        {
          "name": "stderr",
          "output_type": "stream",
          "text": [
            "<ipython-input-24-ec298368109b>:2: PydanticDeprecatedSince20: The `parse_raw` method is deprecated; if your data is JSON use `model_validate_json`, otherwise load the data then use `model_validate` instead. Deprecated in Pydantic V2.0 to be removed in V3.0. See Pydantic V2 Migration Guide at https://errors.pydantic.dev/2.11/migration/\n",
            "  user = user.parse_raw(json_str)\n"
          ]
        }
      ],
      "source": [
        "json_str = '{\"name\": \"Ali\", \"email\": \"ali@gmail.com\", \"account_id\": 1234}'\n",
        "user = user.parse_raw(json_str)"
      ]
    },
    {
      "cell_type": "markdown",
      "metadata": {
        "id": "wKL_oPeSLC1n"
      },
      "source": [
        "### ex18\n",
        "## Pydantic vs Dataclasses\n",
        "---Les annotations de type spécifient le type des variables, améliorant la lisibilité et la vérification des types sans affecter l'exécution."
      ]
    },
    {
      "cell_type": "code",
      "execution_count": null,
      "metadata": {
        "id": "3aW2wQwvLMak"
      },
      "outputs": [],
      "source": [
        "# Python 3.6+\n",
        "x: int = 0\n",
        "y: str = \"hello\""
      ]
    },
    {
      "cell_type": "markdown",
      "metadata": {
        "id": "ta5Xw4awLZom"
      },
      "source": [
        "## ex19\n",
        "`@dataclass` génère automatiquement des méthodes comme `__init__` et `__repr__`, simplifiant la création de classes et réduisant le code boilerplate."
      ]
    },
    {
      "cell_type": "code",
      "execution_count": null,
      "metadata": {
        "id": "x66MRs7ZLdQo"
      },
      "outputs": [],
      "source": [
        "from dataclasses import dataclass\n",
        "\n",
        "@dataclass\n",
        "class User:\n",
        "    name: str\n",
        "    email: str\n",
        "    account_id: int"
      ]
    },
    {
      "cell_type": "markdown",
      "metadata": {
        "id": "Fkj6dZ3sLvzl"
      },
      "source": [
        "## Demande GET"
      ]
    },
    {
      "cell_type": "markdown",
      "metadata": {
        "id": "rReyGJbaL2up"
      },
      "source": [
        "# ex1\n",
        "utiliser le module Python Requests,"
      ]
    },
    {
      "cell_type": "code",
      "execution_count": null,
      "metadata": {
        "colab": {
          "base_uri": "https://localhost:8080/"
        },
        "id": "v2paoNvDL4ZK",
        "outputId": "d21cb03e-ead1-486b-e897-41aba3607b4a"
      },
      "outputs": [
        {
          "name": "stdout",
          "output_type": "stream",
          "text": [
            "Requirement already satisfied: requests in /usr/local/lib/python3.11/dist-packages (2.32.3)\n",
            "Requirement already satisfied: charset-normalizer<4,>=2 in /usr/local/lib/python3.11/dist-packages (from requests) (3.4.1)\n",
            "Requirement already satisfied: idna<4,>=2.5 in /usr/local/lib/python3.11/dist-packages (from requests) (3.10)\n",
            "Requirement already satisfied: urllib3<3,>=1.21.1 in /usr/local/lib/python3.11/dist-packages (from requests) (2.3.0)\n",
            "Requirement already satisfied: certifi>=2017.4.17 in /usr/local/lib/python3.11/dist-packages (from requests) (2025.1.31)\n"
          ]
        }
      ],
      "source": [
        "pip install requests"
      ]
    },
    {
      "cell_type": "markdown",
      "metadata": {
        "id": "Wa4fCaHTMBzh"
      },
      "source": [
        "# ex2\n",
        "`requests.get(url)` envoie une requête GET pour récupérer des données depuis l'URL spécifiée."
      ]
    },
    {
      "cell_type": "code",
      "execution_count": null,
      "metadata": {
        "id": "d-A1o0tTMDQm"
      },
      "outputs": [],
      "source": [
        "import requests\n",
        "\n",
        "url = \"https://www.example.com\"\n",
        "response = requests.get(url)"
      ]
    },
    {
      "cell_type": "markdown",
      "metadata": {
        "id": "bvIVO0nIMQOY"
      },
      "source": [
        "## ex3\n",
        "affichage de response"
      ]
    },
    {
      "cell_type": "code",
      "execution_count": null,
      "metadata": {
        "colab": {
          "base_uri": "https://localhost:8080/"
        },
        "id": "p-YYA08bMRVK",
        "outputId": "be995899-9870-4464-9b2f-e0e47b30fcc5"
      },
      "outputs": [
        {
          "name": "stdout",
          "output_type": "stream",
          "text": [
            "<Response [200]>\n"
          ]
        }
      ],
      "source": [
        "print(response)"
      ]
    },
    {
      "cell_type": "markdown",
      "metadata": {
        "id": "r0WHuDO1MXzF"
      },
      "source": [
        "## ex4\n",
        " affiche le code de statut HTTP pour vérifier le succès ou l'échec de la requête."
      ]
    },
    {
      "cell_type": "code",
      "execution_count": null,
      "metadata": {
        "colab": {
          "base_uri": "https://localhost:8080/"
        },
        "id": "PMY61pW7MY2x",
        "outputId": "1e747b50-a387-4ab9-94a7-126a346e1081"
      },
      "outputs": [
        {
          "name": "stdout",
          "output_type": "stream",
          "text": [
            "200\n"
          ]
        }
      ],
      "source": [
        "print(response.status_code)"
      ]
    },
    {
      "cell_type": "markdown",
      "metadata": {
        "id": "otaovymEMpI6"
      },
      "source": [
        "\n",
        "### Demande de contenu"
      ]
    },
    {
      "cell_type": "markdown",
      "metadata": {
        "id": "Al27ZawhMw29"
      },
      "source": [
        "# ex5\n",
        "`print(response.content)` affiche le contenu brut de la réponse HTTP, comme le HTML ou les données retournées par le serveur."
      ]
    },
    {
      "cell_type": "code",
      "execution_count": null,
      "metadata": {
        "colab": {
          "base_uri": "https://localhost:8080/"
        },
        "id": "oylzo1jcM0dh",
        "outputId": "4848e5bd-2e81-4761-bf0c-185547f8a6ef"
      },
      "outputs": [
        {
          "name": "stdout",
          "output_type": "stream",
          "text": [
            "b'<!doctype html>\\n<html>\\n<head>\\n    <title>Example Domain</title>\\n\\n    <meta charset=\"utf-8\" />\\n    <meta http-equiv=\"Content-type\" content=\"text/html; charset=utf-8\" />\\n    <meta name=\"viewport\" content=\"width=device-width, initial-scale=1\" />\\n    <style type=\"text/css\">\\n    body {\\n        background-color: #f0f0f2;\\n        margin: 0;\\n        padding: 0;\\n        font-family: -apple-system, system-ui, BlinkMacSystemFont, \"Segoe UI\", \"Open Sans\", \"Helvetica Neue\", Helvetica, Arial, sans-serif;\\n        \\n    }\\n    div {\\n        width: 600px;\\n        margin: 5em auto;\\n        padding: 2em;\\n        background-color: #fdfdff;\\n        border-radius: 0.5em;\\n        box-shadow: 2px 3px 7px 2px rgba(0,0,0,0.02);\\n    }\\n    a:link, a:visited {\\n        color: #38488f;\\n        text-decoration: none;\\n    }\\n    @media (max-width: 700px) {\\n        div {\\n            margin: 0 auto;\\n            width: auto;\\n        }\\n    }\\n    </style>    \\n</head>\\n\\n<body>\\n<div>\\n    <h1>Example Domain</h1>\\n    <p>This domain is for use in illustrative examples in documents. You may use this\\n    domain in literature without prior coordination or asking for permission.</p>\\n    <p><a href=\"https://www.iana.org/domains/example\">More information...</a></p>\\n</div>\\n</body>\\n</html>\\n'\n"
          ]
        }
      ],
      "source": [
        "import requests\n",
        "\n",
        "response = requests.get(\"https://www.example.com\")\n",
        "print(response.content) # Changed 'repsonse' to 'response'"
      ]
    },
    {
      "cell_type": "code",
      "execution_count": null,
      "metadata": {
        "id": "MY67mK7AMqw-"
      },
      "outputs": [],
      "source": []
    },
    {
      "cell_type": "markdown",
      "metadata": {
        "id": "a5Csf7-ZOj3T"
      },
      "source": [
        "## Requête POST\n"
      ]
    },
    {
      "cell_type": "markdown",
      "metadata": {
        "id": "RuVa2JVPOl0K"
      },
      "source": [
        "## ex6\n",
        "Ce bloc envoie des données JSON à un serveur via une requête POST et récupère la réponse pour traitement."
      ]
    },
    {
      "cell_type": "code",
      "execution_count": null,
      "metadata": {
        "id": "1LDeDaGEOnhC"
      },
      "outputs": [],
      "source": [
        "data = {\"name\": \"Salah\", \"message\": \"Hello!\"}\n",
        "url = \"https://httpbin.org/post\"\n",
        "\n",
        "response = requests.post(url, json=data)"
      ]
    },
    {
      "cell_type": "markdown",
      "metadata": {
        "id": "c3IMhNn9O8h9"
      },
      "source": [
        "## ex07\n",
        "\n",
        "response.json() convertit le contenu JSON de la réponse en un dictionnaire Python.\n",
        "print(response_data) affiche ce dictionnaire.\n",
        "**Pour manipuler facilement les données retournées par le serveur, en les transformant de JSON à un format utilisable en Python."
      ]
    },
    {
      "cell_type": "code",
      "execution_count": null,
      "metadata": {
        "colab": {
          "base_uri": "https://localhost:8080/"
        },
        "id": "nNqbvxSpPBcB",
        "outputId": "48d96f4f-c298-4fcb-d3e3-5abc7f7beddb"
      },
      "outputs": [
        {
          "name": "stdout",
          "output_type": "stream",
          "text": [
            "{'args': {}, 'data': '{\"name\": \"Salah\", \"message\": \"Hello!\"}', 'files': {}, 'form': {}, 'headers': {'Accept': '*/*', 'Accept-Encoding': 'gzip, deflate, zstd', 'Content-Length': '38', 'Content-Type': 'application/json', 'Host': 'httpbin.org', 'User-Agent': 'python-requests/2.32.3', 'X-Amzn-Trace-Id': 'Root=1-68001d37-0232be6d037fffa2356ad211'}, 'json': {'message': 'Hello!', 'name': 'Salah'}, 'origin': '34.138.85.245', 'url': 'https://httpbin.org/post'}\n"
          ]
        }
      ],
      "source": [
        "response_data = response.json()\n",
        "# Shows the data as a dictionary\n",
        "print(response_data)"
      ]
    },
    {
      "cell_type": "markdown",
      "metadata": {
        "id": "zZWV4dJ_PSMx"
      },
      "source": [
        "### Gestion des erreurs"
      ]
    },
    {
      "cell_type": "markdown",
      "metadata": {
        "id": "6MjGpL2fPWG2"
      },
      "source": [
        "## ex8\n",
        "Ce bloc envoie une requête GET à un endpoint qui retourne une erreur 404, et si le code de statut de la réponse n'est pas 200 (succès), il affiche un message d'erreur avec le code de statut."
      ]
    },
    {
      "cell_type": "code",
      "execution_count": null,
      "metadata": {
        "colab": {
          "base_uri": "https://localhost:8080/"
        },
        "id": "mwI8WXFdPXsk",
        "outputId": "92d0c03f-46e2-46cd-e106-f91017fd0358"
      },
      "outputs": [
        {
          "name": "stdout",
          "output_type": "stream",
          "text": [
            "HTTP Error: 404\n"
          ]
        }
      ],
      "source": [
        "import requests\n",
        "\n",
        "# here we use an endpoint that always gives a 404 status error\n",
        "response = requests.get(\"https://httpbin.org/status/404\")\n",
        "# if status code is not 200 (successful response), then show error message\n",
        "if response.status_code != 200:\n",
        "    print(f\"HTTP Error: {response.status_code}\")"
      ]
    },
    {
      "cell_type": "markdown",
      "metadata": {
        "id": "gDynNttfPlN9"
      },
      "source": [
        "Définir un délai d'attente\n",
        "### Nouvelle section"
      ]
    },
    {
      "cell_type": "markdown",
      "metadata": {
        "id": "ZBP_jKvJPpAa"
      },
      "source": [
        "## ex9\n",
        "Ce bloc envoie une requête GET avec un délai d'attente de 5 secondes, et si la réponse prend trop de temps, il attrape l'exception `Timeout` et affiche l'erreur."
      ]
    },
    {
      "cell_type": "code",
      "execution_count": null,
      "metadata": {
        "colab": {
          "base_uri": "https://localhost:8080/"
        },
        "id": "qYL6wwDbPqVo",
        "outputId": "5999761e-0277-4f3f-c4a8-9f526faf23d8"
      },
      "outputs": [
        {
          "name": "stdout",
          "output_type": "stream",
          "text": [
            "HTTPSConnectionPool(host='httpbin.org', port=443): Read timed out. (read timeout=5)\n"
          ]
        }
      ],
      "source": [
        "url = \"https://httpbin.org/delay/10\"\n",
        "\n",
        "try:\n",
        "    response = requests.get(url, timeout=5)\n",
        "except requests.exceptions.Timeout as err:\n",
        "    print(err)"
      ]
    },
    {
      "cell_type": "markdown",
      "metadata": {
        "id": "liTgPqFwP8pA"
      },
      "source": [
        "En-têtes de requête HTTP\n",
        "### Nouvelle section"
      ]
    },
    {
      "cell_type": "markdown",
      "metadata": {
        "id": "MlF7Bb3KQAOC"
      },
      "source": [
        "## ex10\n",
        "Ce bloc envoie une requête GET à l'URL avec un en-tête d'autorisation utilisant un \"bearer token\" pour l'authentification, puis affiche la réponse sous forme de dictionnaire JSON."
      ]
    },
    {
      "cell_type": "code",
      "execution_count": null,
      "metadata": {
        "colab": {
          "base_uri": "https://localhost:8080/"
        },
        "id": "WpPc7LxSQCTz",
        "outputId": "995ca191-9a18-4dc7-b5e9-70de0f347d89"
      },
      "outputs": [
        {
          "name": "stdout",
          "output_type": "stream",
          "text": [
            "{'headers': {'Accept': '*/*', 'Accept-Encoding': 'gzip, deflate, zstd', 'Authorization': 'Bearer XXXXXXXX', 'Host': 'httpbin.org', 'User-Agent': 'python-requests/2.32.3', 'X-Amzn-Trace-Id': 'Root=1-68001ebb-0730016f32c7861b48c04996'}}\n"
          ]
        }
      ],
      "source": [
        "auth_token = \"XXXXXXXX\"\n",
        "\n",
        "# here we set the authorization header with the 'bearer token' for authentication purposes.\n",
        "headers = {\n",
        "    \"Authorization\": f\"Bearer {auth_token}\"\n",
        "}\n",
        "\n",
        "url = \"https://httpbin.org/headers\"\n",
        "response = requests.get(url, headers=headers)\n",
        "print(response.json())"
      ]
    },
    {
      "cell_type": "markdown",
      "metadata": {
        "id": "3J_FzBfyQLs1"
      },
      "source": [
        "### Web Scraping avec BeautifulSoup\n"
      ]
    },
    {
      "cell_type": "markdown",
      "metadata": {
        "id": "6C712cHwQXtf"
      },
      "source": [
        "## ex11*\n",
        "Ce bloc envoie une requête GET à l'URL spécifiée et récupère tout le contenu de la page web, incluant le HTML, JavaScript et CSS."
      ]
    },
    {
      "cell_type": "code",
      "execution_count": null,
      "metadata": {
        "id": "4gTO5LDNQYm7"
      },
      "outputs": [],
      "source": [
        "import requests\n",
        "\n",
        "url = \"https://www.example.com\"\n",
        "# this will get all the HTML, javascript, css code\n",
        "response = requests.get(url)"
      ]
    },
    {
      "cell_type": "markdown",
      "metadata": {
        "id": "L4PEOWKCQmXZ"
      },
      "source": [
        "## ex12\n",
        "La commande pip install beautifulsoup4 est utilisée pour installer la bibliothèque BeautifulSoup en version 4, qui permet de parser et d'analyser des pages HTML et XML en Python.\n",
        "Elle facilite l'extraction de données structurées (comme du texte ou des liens) à partir de pages web en HTML."
      ]
    },
    {
      "cell_type": "code",
      "execution_count": null,
      "metadata": {
        "colab": {
          "base_uri": "https://localhost:8080/"
        },
        "id": "QHKyFQghQppQ",
        "outputId": "14078356-3528-4187-e1d4-b99df06ca349"
      },
      "outputs": [
        {
          "name": "stdout",
          "output_type": "stream",
          "text": [
            "Requirement already satisfied: beautifulsoup4 in /usr/local/lib/python3.11/dist-packages (4.13.3)\n",
            "Requirement already satisfied: soupsieve>1.2 in /usr/local/lib/python3.11/dist-packages (from beautifulsoup4) (2.6)\n",
            "Requirement already satisfied: typing-extensions>=4.0.0 in /usr/local/lib/python3.11/dist-packages (from beautifulsoup4) (4.13.1)\n"
          ]
        }
      ],
      "source": [
        "pip install beautifulsoup4"
      ]
    },
    {
      "cell_type": "markdown",
      "metadata": {
        "id": "yZyuLfvcQ8MF"
      },
      "source": [
        "## `ex13`\n",
        "Ce bloc envoie une requête GET à l'URL spécifiée pour récupérer le contenu de la page, puis utilise BeautifulSoup pour analyser ce contenu HTML avec le parser html.parser.\n",
        "\n",
        "\n"
      ]
    },
    {
      "cell_type": "code",
      "execution_count": null,
      "metadata": {
        "id": "Sy7ZsJZZQ_bl"
      },
      "outputs": [],
      "source": [
        "import requests\n",
        "from bs4 import BeautifulSoup\n",
        "\n",
        "url = \"https://www.example.com\"\n",
        "response = requests.get(url)\n",
        "soup = BeautifulSoup(response.content, \"html.parser\")"
      ]
    },
    {
      "cell_type": "markdown",
      "metadata": {
        "id": "3dTzt9GXRSn0"
      },
      "source": [
        "## ex14\n",
        "Ce bloc extrait et affiche des informations spécifiques à partir du contenu HTML analysé avec BeautifulSoup.\n",
        "\n",
        "**title = soup.title.text : Récupère le texte du titre de la page (<title>), qui est généralement le titre affiché dans l'onglet du navigateur.\n",
        "**content = soup.find(\"p\").text : Trouve le premier paragraphe (<p>) de la page et récupère son texte.\n",
        "\n",
        "**links = [a[\"href\"] for a in soup.find_all(\"a\")] : Trouve tous les éléments de lien (<a>) et extrait l'attribut href (l'URL de destination de chaque lien)."
      ]
    },
    {
      "cell_type": "code",
      "execution_count": null,
      "metadata": {
        "colab": {
          "base_uri": "https://localhost:8080/"
        },
        "id": "atG0JyZiRV7O",
        "outputId": "6e8b09fc-cad8-41d0-eacb-2e42185dd1d3"
      },
      "outputs": [
        {
          "name": "stdout",
          "output_type": "stream",
          "text": [
            "Example Domain This domain is for use in illustrative examples in documents. You may use this\n",
            "    domain in literature without prior coordination or asking for permission. ['https://www.iana.org/domains/example']\n"
          ]
        }
      ],
      "source": [
        "title = soup.title.text\n",
        "content = soup.find(\"p\").text\n",
        "links = [a[\"href\"] for a in soup.find_all(\"a\")]\n",
        "\n",
        "print(title, content, links)"
      ]
    },
    {
      "cell_type": "markdown",
      "metadata": {
        "id": "b06fT1WNSMwP"
      },
      "source": []
    },
    {
      "cell_type": "markdown",
      "metadata": {
        "id": "2oZqt_BeRvAD"
      },
      "source": [
        "Requêtes vs urllib\n"
      ]
    },
    {
      "cell_type": "markdown",
      "metadata": {
        "id": "OTV2bA8xSOLG"
      },
      "source": [
        "## ex15\n",
        "L'erreur 403 indique que l'accès à l'URL est interdit. Cela peut être dû à des restrictions de permission ou à la nécessité d'une authentification. Vous pouvez essayer d'ajouter un en-tête `User-Agent` ou de fournir des informations d'identification."
      ]
    },
    {
      "cell_type": "code",
      "execution_count": null,
      "metadata": {
        "colab": {
          "base_uri": "https://localhost:8080/"
        },
        "id": "CgIwrxphSQYV",
        "outputId": "8cb3b75b-4f53-49f0-a0df-2fc7f9ef16c0"
      },
      "outputs": [
        {
          "name": "stdout",
          "output_type": "stream",
          "text": [
            "HTTP Error: 403\n"
          ]
        }
      ],
      "source": [
        "import urllib.request\n",
        "import urllib.parse\n",
        "\n",
        "data = urllib.parse.urlencode({\"key\": \"value\"}).encode(\"utf-8\")\n",
        "req = urllib.request.Request(\"https://www.example.com\", data=data, method=\"POST\")\n",
        "\n",
        "# Ajouter un en-tête User-Agent\n",
        "req.add_header('User-Agent', 'Mozilla/5.0 (Windows NT 10.0; Win64; x64) AppleWebKit/537.36 (KHTML, like Gecko) Chrome/91.0.4472.124 Safari/537.36')\n",
        "\n",
        "try:\n",
        "    with urllib.request.urlopen(req) as response:\n",
        "        html = response.read().decode(\"utf-8\")\n",
        "    print(html)\n",
        "except urllib.error.HTTPError as e:\n",
        "    print(f\"HTTP Error: {e.code}\")\n"
      ]
    },
    {
      "cell_type": "markdown",
      "metadata": {
        "id": "ulVBxw3TTAMi"
      },
      "source": [
        "# ***Nouvelle section***"
      ]
    },
    {
      "cell_type": "markdown",
      "metadata": {
        "id": "oJ6tfZGRTFZC"
      },
      "source": [
        "## **Installer et démarrer avec FastAPI**"
      ]
    },
    {
      "cell_type": "markdown",
      "metadata": {
        "id": "jZPwuZzKTJ_Z"
      },
      "source": [
        "## `ex1`\n",
        "`pip install fastapi uvicorn` installe FastAPI pour créer des APIs et Uvicorn pour servir l'application de manière rapide et asynchrone."
      ]
    },
    {
      "cell_type": "code",
      "execution_count": null,
      "metadata": {
        "id": "EgtGnyOATLOy"
      },
      "outputs": [],
      "source": [
        "pip install fastapi uvicorn"
      ]
    },
    {
      "cell_type": "markdown",
      "metadata": {
        "id": "09mF9hYpTXpu"
      },
      "source": [
        "## ex2\n",
        "Ce code crée une API avec FastAPI qui répond à une requête GET à la racine (\"/\") en renvoyant `{\"Hello\": \"World\"}` en JSON."
      ]
    },
    {
      "cell_type": "code",
      "execution_count": null,
      "metadata": {
        "id": "_cbDSzYRTYsd"
      },
      "outputs": [],
      "source": [
        "from fastapi import FastAPI\n",
        "\n",
        "# Create an app\n",
        "app = FastAPI()\n",
        "\n",
        "# define a path for HTTP Get method\n",
        "@app.get(\"/\")\n",
        "def root():\n",
        "    return {\"Hello\": \"World\"}"
      ]
    },
    {
      "cell_type": "markdown",
      "metadata": {
        "id": "5nvwtT6QToRl"
      },
      "source": [
        "## ex3"
      ]
    },
    {
      "cell_type": "code",
      "execution_count": null,
      "metadata": {
        "colab": {
          "background_save": true,
          "base_uri": "https://localhost:8080/"
        },
        "id": "WUN7fCfqTrkO",
        "outputId": "13f148de-a5d4-4c8a-b738-58cd4d8f83a1"
      },
      "outputs": [
        {
          "name": "stdout",
          "output_type": "stream",
          "text": [
            "\u001b[32mINFO\u001b[0m:     Will watch for changes in these directories: ['/content']\n",
            "\u001b[32mINFO\u001b[0m:     Uvicorn running on \u001b[1mhttp://127.0.0.1:8000\u001b[0m (Press CTRL+C to quit)\n",
            "\u001b[32mINFO\u001b[0m:     Started reloader process [\u001b[36m\u001b[1m15880\u001b[0m] using \u001b[36m\u001b[1mStatReload\u001b[0m\n",
            "\u001b[31mERROR\u001b[0m:    Error loading ASGI app. Could not import module \"app\".\n"
          ]
        }
      ],
      "source": [
        "!uvicorn app:app --reload\n"
      ]
    },
    {
      "cell_type": "markdown",
      "metadata": {
        "id": "RrsfS9ttUDl9"
      },
      "source": [
        "### Routes GET et *POST* ***texte en gras***"
      ]
    },
    {
      "cell_type": "markdown",
      "metadata": {
        "id": "TNsnnOwWUKxl"
      },
      "source": [
        "### ex4\n",
        "créer une liste vide d'éléments"
      ]
    },
    {
      "cell_type": "code",
      "execution_count": null,
      "metadata": {
        "id": "CuOIKxrPUMDV"
      },
      "outputs": [],
      "source": [
        "items = []"
      ]
    },
    {
      "cell_type": "markdown",
      "metadata": {
        "id": "5m9Jk6VumFVu"
      },
      "source": [
        "## ex5\n",
        " utilises FastAPI pour créer une API REST.\n",
        "\n",
        " créé une route POST pour enregistrer des utilisateurs avec des rôles.\n",
        "\n",
        " pour valider les données envoyées par l'utilisateur."
      ]
    },
    {
      "cell_type": "code",
      "execution_count": null,
      "metadata": {
        "id": "wum6xMy3muYd"
      },
      "outputs": [],
      "source": [
        "\n",
        "from fastapi import FastAPI\n",
        "\n",
        "# Assuming this was done in a previous cell, but if not, it's needed here\n",
        "app = FastAPI()\n",
        "\n",
        "@app.post(\"/items\") # Changed the route to POST, assuming it was intended for item creation\n",
        "def create_item(item: str):\n",
        "    items.append(item)\n",
        "    return item\n",
        "\n",
        "@app.get(\"/items\") # Define the route to get items\n",
        "def get_items():\n",
        "    return items"
      ]
    },
    {
      "cell_type": "code",
      "execution_count": null,
      "metadata": {
        "id": "9eRM1m6yUFj8"
      },
      "outputs": [],
      "source": []
    },
    {
      "cell_type": "markdown",
      "metadata": {
        "id": "85en750RnM66"
      },
      "source": [
        "## ex6\n",
        "Élément\tRôle\n",
        "!curl\tExécute la commande dans un notebook (ex. Colab)\n",
        "-X POST\tEnvoie une requête HTTP POST\n",
        "-H \"Content-Type: application/json\"\tPrécise que le contenu est en JSON\n",
        "'...?item=apple'\tAppelle l’URL avec item=apple dans la query string"
      ]
    },
    {
      "cell_type": "code",
      "execution_count": null,
      "metadata": {
        "colab": {
          "base_uri": "https://localhost:8080/"
        },
        "id": "ymT9wZVEnOGe",
        "outputId": "0765e4e5-60ab-48e9-a44b-86ad379a3f35"
      },
      "outputs": [
        {
          "name": "stdout",
          "output_type": "stream",
          "text": [
            "curl: (7) Failed to connect to 127.0.0.1 port 8000 after 0 ms: Connection refused\n"
          ]
        }
      ],
      "source": [
        "!curl -X POST -H \"Content-Type: application/json\" 'http://127.0.0.1:8000/items?item=apple'"
      ]
    },
    {
      "cell_type": "markdown",
      "metadata": {
        "id": "6Zako4wynpEg"
      },
      "source": [
        "## ex7\n",
        "Ce code sert à récupérer un seul item à partir de son index (ID) dans la liste items.\n",
        "Ligne | Rôle\n",
        "@app.get(\"items/{item_id}\") | Crée une route GET dynamique, ex : /items/0 pour accéder au 1er élément\n",
        "def get_item(item_id: int) -> str: | Déclare une fonction qui prend un item_id (entier)\n",
        "item = items[item_id] | Récupère l’élément à la position item_id dans la liste items\n",
        "return item | Retourne cet élément (en général un str si ta liste contient des chaînes)"
      ]
    },
    {
      "cell_type": "code",
      "execution_count": null,
      "metadata": {
        "id": "a2N4il_SnqNZ"
      },
      "outputs": [],
      "source": [
        "@app.get(\"items/{item_id}\")\n",
        "def get_item(item_id: int) -> str:\n",
        "    item = items[item_id]\n",
        "    return item"
      ]
    },
    {
      "cell_type": "markdown",
      "metadata": {
        "id": "poK2AeOin9DT"
      },
      "source": [
        "## ex8\n",
        "Cette commande permet de récupérer le premier élément de la liste `items` via une requête GET à l’API FastAPI."
      ]
    },
    {
      "cell_type": "code",
      "execution_count": null,
      "metadata": {
        "colab": {
          "base_uri": "https://localhost:8080/"
        },
        "id": "CgkJDbnsn_lR",
        "outputId": "c23f9245-a1b7-4947-e552-18352655eca4"
      },
      "outputs": [
        {
          "name": "stdout",
          "output_type": "stream",
          "text": [
            "curl: (7) Failed to connect to 127.0.0.1 port 8000 after 0 ms: Connection refused\n"
          ]
        }
      ],
      "source": [
        "!curl -X GET http://127.0.0.1:8000/items/0"
      ]
    },
    {
      "cell_type": "markdown",
      "metadata": {
        "id": "a76kUxOioSlA"
      },
      "source": [
        "## ex9\n",
        "utilisée pour récupérer l'élément à l'index 7 de la liste items via une requête GET à ton API FastAPI. Cependant, si l'index 7 n'existe pas dans la liste, tu obtiendras une erreur, généralement un IndexError."
      ]
    },
    {
      "cell_type": "code",
      "execution_count": null,
      "metadata": {
        "colab": {
          "base_uri": "https://localhost:8080/"
        },
        "id": "Qlf01msyoT25",
        "outputId": "bcee860a-50b5-413b-c449-f0bbc38afc29"
      },
      "outputs": [
        {
          "name": "stdout",
          "output_type": "stream",
          "text": [
            "curl: (7) Failed to connect to 127.0.0.1 port 8000 after 0 ms: Connection refused\n"
          ]
        }
      ],
      "source": [
        "!curl -X GET http://127.0.0.1:8000/items/7"
      ]
    },
    {
      "cell_type": "markdown",
      "metadata": {
        "id": "x05IaNHeohyl"
      },
      "source": [
        "### ex10\n",
        "## Gestion des erreurs HTTP\n",
        "`FastAPI` est utilisé pour créer l'application API et gérer les routes, tandis que `HTTPException` permet de lever des erreurs HTTP personnalisées, comme une erreur 404, lorsqu'une condition échoue, par exemple, lorsque l'élément demandé n'est pas trouvé."
      ]
    },
    {
      "cell_type": "code",
      "execution_count": null,
      "metadata": {
        "id": "gXdA9BLqojhI"
      },
      "outputs": [],
      "source": [
        "from fastapi import FastAPI, HTTPException"
      ]
    },
    {
      "cell_type": "markdown",
      "metadata": {
        "id": "6yxUnL3qpYv0"
      },
      "source": [
        "### ex11\n",
        "Ce code permet de récupérer un élément d'une liste par son identifiant (`item_id`). Si l'ID est valide, l'élément est retourné, sinon une erreur 404 est générée. Il y a une erreur avec les décorateurs, il faut en garder un seul."
      ]
    },
    {
      "cell_type": "code",
      "execution_count": null,
      "metadata": {
        "id": "dgtI0uLPpcUF"
      },
      "outputs": [],
      "source": [
        "@app.get(\"items/{item_id}\")\n",
        "@app.get(\"items/{item_id}\")\n",
        "def get_item(item_id: int) -> str:\n",
        "    if item_id < len(items):\n",
        "        return items[item_id]\n",
        "    else:\n",
        "        raise HTTPException(status_code=404, detail=f\"Item {item_id} not found\")"
      ]
    },
    {
      "cell_type": "markdown",
      "metadata": {
        "id": "_ZtGMO1wpvgv"
      },
      "source": [
        "## **ex12**\n",
        "La commande `!curl -X GET http://127.0.0.1:8000/items/7` permet de faire une requête GET pour récupérer l'élément à l'index 7 de la liste `items` dans ton API FastAPI. Si l'index 7 existe, l'élément est retourné, sinon une erreur 404 sera générée indiquant que l'élément n'a pas été trouvé."
      ]
    },
    {
      "cell_type": "code",
      "execution_count": null,
      "metadata": {
        "colab": {
          "base_uri": "https://localhost:8080/"
        },
        "id": "afek5LJ4pxOe",
        "outputId": "1111b30b-afb4-4fdd-96ad-c30e912e63f0"
      },
      "outputs": [
        {
          "name": "stdout",
          "output_type": "stream",
          "text": [
            "curl: (7) Failed to connect to 127.0.0.1 port 8000 after 0 ms: Connection refused\n"
          ]
        }
      ],
      "source": [
        "!curl -X GET http://127.0.0.1:8000/items/7"
      ]
    },
    {
      "cell_type": "markdown",
      "metadata": {
        "id": "sDDTo-HTqZan"
      },
      "source": [
        "## ex13\n",
        "Le message `{\"detail\": \"Item 7 not found\"}` signifie que l'élément à l'index 7 n'a pas été trouvé dans la liste `items` et qu'une erreur 404 a été renvoyée par l'API."
      ]
    },
    {
      "cell_type": "code",
      "execution_count": null,
      "metadata": {
        "colab": {
          "base_uri": "https://localhost:8080/"
        },
        "id": "BVHkqu89qasr",
        "outputId": "2d498e03-5bcb-4eda-cd63-e5c2f29b7f5c"
      },
      "outputs": [
        {
          "data": {
            "text/plain": [
              "{'detail': 'Item 7 not found'}"
            ]
          },
          "execution_count": 23,
          "metadata": {},
          "output_type": "execute_result"
        }
      ],
      "source": [
        "{\"detail\" : \"Item 7 not found\"}"
      ]
    },
    {
      "cell_type": "markdown",
      "metadata": {
        "id": "uXYgN91sqkqo"
      },
      "source": [
        "### ex14\n",
        "## *=Paramètres de requête et de chemin JSON\n",
        "code1 :Cet endpoint permet de récupérer une liste d'éléments en utilisant un paramètre de requête `limit`. Par défaut, il renvoie les 10 premiers éléments de la liste `items`, mais tu peux ajuster la valeur de `limit` pour obtenir plus ou moins d'éléments."
      ]
    },
    {
      "cell_type": "code",
      "execution_count": null,
      "metadata": {
        "id": "SCQJgytnqmC3"
      },
      "outputs": [],
      "source": [
        "# this endpoint uses a query parameter 'limit'\n",
        "@app.get(\"/items/\")\n",
        "def list_items(limit: int = 10):\n",
        "    return items[0:limit]"
      ]
    },
    {
      "cell_type": "markdown",
      "metadata": {
        "id": "DXWuxvXrq_sf"
      },
      "source": [
        "## ex15\n",
        "La commande `!curl -X GET 'http://127.0.0.1:8000/items?limit=3'` permet de faire une requête GET à l'API pour récupérer les 3 premiers éléments de la liste `items`, en utilisant le paramètre de requête `limit`."
      ]
    },
    {
      "cell_type": "code",
      "execution_count": null,
      "metadata": {
        "colab": {
          "base_uri": "https://localhost:8080/"
        },
        "id": "WTnWbXv3rByH",
        "outputId": "cecbf65b-f878-417d-9417-b2ccf991c624"
      },
      "outputs": [
        {
          "name": "stdout",
          "output_type": "stream",
          "text": [
            "curl: (7) Failed to connect to 127.0.0.1 port 8000 after 0 ms: Connection refused\n"
          ]
        }
      ],
      "source": [
        "!curl -X GET 'http://127.0.0.1:8000/items?limit=3'"
      ]
    },
    {
      "cell_type": "markdown",
      "metadata": {
        "id": "dkW29lRerR-O"
      },
      "source": [
        "### ex16\n",
        "## Modèles pydantiques\n",
        "////`from pydantic import BaseModel` est utilisé pour importer la classe `BaseModel` de Pydantic, qui permet de définir des modèles de données avec validation automatique des types et des valeurs, généralement utilisée pour définir les schémas de données dans les requêtes et réponses d'une API FastAPI."
      ]
    },
    {
      "cell_type": "code",
      "execution_count": null,
      "metadata": {
        "id": "vBWkmS0zrTlG"
      },
      "outputs": [],
      "source": [
        "from pydantic import BaseModel\n"
      ]
    },
    {
      "cell_type": "markdown",
      "metadata": {
        "id": "LDSCtO0zrrM7"
      },
      "source": [
        "## ex17\n",
        "La classe `Item(BaseModel)` est utilisée pour définir un modèle de données avec Pydantic, où `text` est une chaîne de caractères et `is_done` est un booléen, permettant ainsi de valider et de structurer les données des éléments dans une API FastAPI."
      ]
    },
    {
      "cell_type": "code",
      "execution_count": null,
      "metadata": {
        "id": "HVV3TaUxrtWs"
      },
      "outputs": [],
      "source": [
        "class Item(BaseModel):\n",
        "    text: str = None\n",
        "    is_done: bool = False"
      ]
    },
    {
      "cell_type": "markdown",
      "metadata": {
        "id": "G2KNnejisBIO"
      },
      "source": [
        "### ex18\n",
        "\n",
        "Le code définit une classe `Item` avec Pydantic pour valider les données d'un élément, puis utilise cette classe dans les fonctions `create_item` et `get_item` pour gérer la création et la récupération d'éléments dans une API FastAPI."
      ]
    },
    {
      "cell_type": "code",
      "execution_count": null,
      "metadata": {
        "id": "AbZSI_bTsClB"
      },
      "outputs": [],
      "source": [
        "from pydantic import BaseModel\n",
        "\n",
        "class Item(BaseModel):\n",
        "    text: str = None\n",
        "    is_done: bool = False\n",
        "\n",
        "def create_item(item: Item):\n",
        "    # Add your logic here to create an item\n",
        "    # For example, you could append it to a list:\n",
        "    items.append(item)\n",
        "    return item\n",
        "\n",
        "def get_item(item_id: int) -> Item:\n",
        "    # Add your logic here to retrieve an item by its ID\n",
        "    # For example, you could access it from a list:\n",
        "    if item_id < len(items):\n",
        "        return items[item_id]\n",
        "    else:\n",
        "        raise HTTPException(status_code=404, detail=f\"Item {item_id} not found\")"
      ]
    },
    {
      "cell_type": "markdown",
      "metadata": {
        "id": "Sz5Bab0ts7gq"
      },
      "source": [
        "## ex19\n",
        "*La commande `!curl -X POST -H \"Content-Type: application/json\" 'http://127.0.0.1:8000/items?item=apple'` est utilisée pour envoyer une requête POST à l'API, en envoyant un objet JSON avec l'élément `\"apple\"` pour être ajouté à la liste `items` dans l'API FastAPI."
      ]
    },
    {
      "cell_type": "code",
      "execution_count": null,
      "metadata": {
        "colab": {
          "base_uri": "https://localhost:8080/"
        },
        "id": "qMT6i6nwtAma",
        "outputId": "fb6f71ee-5e9a-4dfd-bc58-8a75d3eb4c8d"
      },
      "outputs": [
        {
          "name": "stdout",
          "output_type": "stream",
          "text": [
            "curl: (7) Failed to connect to 127.0.0.1 port 8000 after 0 ms: Connection refused\n"
          ]
        }
      ],
      "source": [
        "!curl -X POST -H \"Content-Type: application/json\" 'http://127.0.0.1:8000/items?item=apple'"
      ]
    },
    {
      "cell_type": "markdown",
      "metadata": {
        "id": "YiGGsTrCtVO9"
      },
      "source": [
        "## ex20\n",
        "commande curl est bien formée pour envoyer une requête POST avec des données JSON à un serveur local sur FastAPI. Juste pour clarifier et vérifier que tout est bon"
      ]
    },
    {
      "cell_type": "code",
      "execution_count": null,
      "metadata": {
        "colab": {
          "base_uri": "https://localhost:8080/"
        },
        "id": "tA8s07I6tiqn",
        "outputId": "51e0c4ed-5d0d-4b8c-fca0-ecbd06bb933f"
      },
      "outputs": [
        {
          "name": "stdout",
          "output_type": "stream",
          "text": [
            "curl: (7) Failed to connect to 127.0.0.1 port 8000 after 0 ms: Connection refused\n"
          ]
        }
      ],
      "source": [
        "!curl -X POST -H \"Content-Type: application/json\" -d '{\"text\":\"apple\"}' 'http://127.0.0.1:8000/items'"
      ]
    },
    {
      "cell_type": "markdown",
      "metadata": {
        "id": "cu-0V9tfd4EB"
      },
      "source": [
        "## ex21\n",
        "Ces commandes sont des instructions permettant de gérer des actions spécifiques liées à l'administration et la sécurité des utilisateurs dans un système.\n",
        "\n",
        "\n",
        "\n",
        "\n",
        "\n",
        "\n",
        "\n",
        "\n"
      ]
    },
    {
      "cell_type": "code",
      "execution_count": null,
      "metadata": {
        "colab": {
          "base_uri": "https://localhost:8080/"
        },
        "id": "3TPkfogzd6YT",
        "outputId": "e8b7c606-74cf-4ab0-8e94-2ccd20ff835c"
      },
      "outputs": [
        {
          "data": {
            "text/plain": [
              "[{'text': 'apple', 'is_done': False}]"
            ]
          },
          "execution_count": 2,
          "metadata": {},
          "output_type": "execute_result"
        }
      ],
      "source": [
        "[{\"text\": \"apple\", \"is_done\": False}] # Change 'false' to 'False'"
      ]
    },
    {
      "cell_type": "markdown",
      "metadata": {
        "id": "eSD0CAPQehHs"
      },
      "source": [
        "## ex22\n",
        "Ce code importe BaseModel de Pydantic, puis définit une classe Item avec des champs text (obligatoire) et is_done (facultatif) pour valider et structurer les données"
      ]
    },
    {
      "cell_type": "code",
      "execution_count": null,
      "metadata": {
        "id": "LCC0qoviekMY"
      },
      "outputs": [],
      "source": [
        "from pydantic import BaseModel\n",
        "\n",
        "class Item(BaseModel):\n",
        "    # without default value\n",
        "    text: str\n",
        "    is_done: bool = False"
      ]
    },
    {
      "cell_type": "markdown",
      "metadata": {
        "id": "vajjbeXje35M"
      },
      "source": [
        "## ex23\n",
        "La commande curl envoie des données JSON à votre API FastAPI pour créer un nouvel élément \"Item\" et tester son fonctionnement."
      ]
    },
    {
      "cell_type": "code",
      "execution_count": null,
      "metadata": {
        "colab": {
          "base_uri": "https://localhost:8080/"
        },
        "id": "IqYWTyTje_YL",
        "outputId": "012fd2e5-fc8d-45f1-ad63-d8013ec91a1e"
      },
      "outputs": [
        {
          "name": "stdout",
          "output_type": "stream",
          "text": [
            "curl: (7) Failed to connect to 127.0.0.1 port 8000 after 0 ms: Connection refused\n"
          ]
        }
      ],
      "source": [
        "!curl -X POST -H \"Content-Type: application/json\" -d '{\"title\":\"apple\"}' 'http://127.0.0.1:8000/items'"
      ]
    },
    {
      "cell_type": "markdown",
      "metadata": {
        "id": "MYyqjqDNfPwR"
      },
      "source": [
        "## ex24\n",
        "### Modèles de réponse"
      ]
    },
    {
      "cell_type": "code",
      "execution_count": null,
      "metadata": {
        "colab": {
          "background_save": true,
          "base_uri": "https://localhost:8080/"
        },
        "id": "nVrkjPFufREx",
        "outputId": "b107d594-6656-4b64-88ec-7ec73d19fdc9"
      },
      "outputs": [
        {
          "name": "stdout",
          "output_type": "stream",
          "text": [
            "Collecting fastapi\n",
            "  Downloading fastapi-0.115.12-py3-none-any.whl.metadata (27 kB)\n",
            "Collecting starlette<0.47.0,>=0.40.0 (from fastapi)\n",
            "  Downloading starlette-0.46.2-py3-none-any.whl.metadata (6.2 kB)\n",
            "Requirement already satisfied: pydantic!=1.8,!=1.8.1,!=2.0.0,!=2.0.1,!=2.1.0,<3.0.0,>=1.7.4 in /usr/local/lib/python3.11/dist-packages (from fastapi) (2.11.3)\n",
            "Requirement already satisfied: typing-extensions>=4.8.0 in /usr/local/lib/python3.11/dist-packages (from fastapi) (4.13.2)\n",
            "Requirement already satisfied: annotated-types>=0.6.0 in /usr/local/lib/python3.11/dist-packages (from pydantic!=1.8,!=1.8.1,!=2.0.0,!=2.0.1,!=2.1.0,<3.0.0,>=1.7.4->fastapi) (0.7.0)\n",
            "Requirement already satisfied: pydantic-core==2.33.1 in /usr/local/lib/python3.11/dist-packages (from pydantic!=1.8,!=1.8.1,!=2.0.0,!=2.0.1,!=2.1.0,<3.0.0,>=1.7.4->fastapi) (2.33.1)\n",
            "Requirement already satisfied: typing-inspection>=0.4.0 in /usr/local/lib/python3.11/dist-packages (from pydantic!=1.8,!=1.8.1,!=2.0.0,!=2.0.1,!=2.1.0,<3.0.0,>=1.7.4->fastapi) (0.4.0)\n",
            "Requirement already satisfied: anyio<5,>=3.6.2 in /usr/local/lib/python3.11/dist-packages (from starlette<0.47.0,>=0.40.0->fastapi) (4.9.0)\n",
            "Requirement already satisfied: idna>=2.8 in /usr/local/lib/python3.11/dist-packages (from anyio<5,>=3.6.2->starlette<0.47.0,>=0.40.0->fastapi) (3.10)\n",
            "Requirement already satisfied: sniffio>=1.1 in /usr/local/lib/python3.11/dist-packages (from anyio<5,>=3.6.2->starlette<0.47.0,>=0.40.0->fastapi) (1.3.1)\n",
            "Downloading fastapi-0.115.12-py3-none-any.whl (95 kB)\n",
            "\u001b[2K   \u001b[90m━━━━━━━━━━━━━━━━━━━━━━━━━━━━━━━━━━━━━━━━\u001b[0m \u001b[32m95.2/95.2 kB\u001b[0m \u001b[31m5.6 MB/s\u001b[0m eta \u001b[36m0:00:00\u001b[0m\n",
            "\u001b[?25hDownloading starlette-0.46.2-py3-none-any.whl (72 kB)\n",
            "\u001b[2K   \u001b[90m━━━━━━━━━━━━━━━━━━━━━━━━━━━━━━━━━━━━━━━━\u001b[0m \u001b[32m72.0/72.0 kB\u001b[0m \u001b[31m7.7 MB/s\u001b[0m eta \u001b[36m0:00:00\u001b[0m\n",
            "\u001b[?25hInstalling collected packages: starlette, fastapi\n",
            "Successfully installed fastapi-0.115.12 starlette-0.46.2\n",
            "Collecting uvicorn\n",
            "  Downloading uvicorn-0.34.2-py3-none-any.whl.metadata (6.5 kB)\n",
            "Requirement already satisfied: click>=7.0 in /usr/local/lib/python3.11/dist-packages (from uvicorn) (8.1.8)\n",
            "Requirement already satisfied: h11>=0.8 in /usr/local/lib/python3.11/dist-packages (from uvicorn) (0.14.0)\n",
            "Downloading uvicorn-0.34.2-py3-none-any.whl (62 kB)\n",
            "\u001b[2K   \u001b[90m━━━━━━━━━━━━━━━━━━━━━━━━━━━━━━━━━━━━━━━━\u001b[0m \u001b[32m62.5/62.5 kB\u001b[0m \u001b[31m3.2 MB/s\u001b[0m eta \u001b[36m0:00:00\u001b[0m\n",
            "\u001b[?25hInstalling collected packages: uvicorn\n",
            "Successfully installed uvicorn-0.34.2\n",
            "\u001b[32mINFO\u001b[0m:     Will watch for changes in these directories: ['/content']\n",
            "\u001b[32mINFO\u001b[0m:     Uvicorn running on \u001b[1mhttp://127.0.0.1:8000\u001b[0m (Press CTRL+C to quit)\n",
            "\u001b[32mINFO\u001b[0m:     Started reloader process [\u001b[36m\u001b[1m2669\u001b[0m] using \u001b[36m\u001b[1mStatReload\u001b[0m\n",
            "\u001b[31mERROR\u001b[0m:    Error loading ASGI app. Could not import module \"nom_de_ton_fichier\".\n"
          ]
        }
      ],
      "source": [
        "# Installation (à exécuter dans le terminal ou en notebook)\n",
        "!pip install fastapi\n",
        "!pip install uvicorn\n",
        "\n",
        "# ----- Code Python FastAPI -----\n",
        "from fastapi import FastAPI, HTTPException\n",
        "from pydantic import BaseModel\n",
        "from typing import List\n",
        "\n",
        "# Création de l'application FastAPI\n",
        "app = FastAPI()\n",
        "\n",
        "# Modèle de données\n",
        "class Item(BaseModel):\n",
        "    text: str\n",
        "    is_done: bool\n",
        "\n",
        "# Route pour récupérer une liste d’objets Item\n",
        "@app.get(\"/items\", response_model=List[Item])\n",
        "def list_item(limit: int = 10):\n",
        "    return []  # Pour l'instant, retourne une liste vide\n",
        "\n",
        "# Route pour récupérer un objet Item spécifique par son ID\n",
        "@app.get(\"/items/{item_id}\", response_model=Item)\n",
        "def get_item(item_id: int) -> Item:\n",
        "    if item_id == 0:\n",
        "        return Item(text=\"example item\", is_done=False)\n",
        "    else:\n",
        "        raise HTTPException(status_code=404, detail=f\"Item {item_id} not found\")\n"
      ]
    },
    {
      "cell_type": "markdown",
      "metadata": {
        "id": "mCABaKdfhzkF"
      },
      "source": [
        "# Tutoriel Streamlit\n"
      ]
    },
    {
      "cell_type": "markdown",
      "metadata": {
        "id": "TryLebJGh2g_"
      },
      "source": [
        "## ex1"
      ]
    },
    {
      "cell_type": "code",
      "execution_count": null,
      "metadata": {
        "id": "rXFvaULsh4xm"
      },
      "outputs": [],
      "source": [
        "pip install streamlit"
      ]
    },
    {
      "cell_type": "markdown",
      "metadata": {
        "id": "3GePhG6Eie4n"
      },
      "source": [
        "### ex2"
      ]
    },
    {
      "cell_type": "code",
      "execution_count": null,
      "metadata": {
        "id": "KsXfJUOoiiFL"
      },
      "outputs": [],
      "source": [
        "import streamlit as st\n",
        "\n",
        "st.write('Hello World')"
      ]
    },
    {
      "cell_type": "markdown",
      "metadata": {
        "id": "d6kKRMKcin9t"
      },
      "source": [
        "### ex3"
      ]
    },
    {
      "cell_type": "code",
      "execution_count": null,
      "metadata": {
        "id": "dHhzhbGyip4M"
      },
      "outputs": [],
      "source": [
        "streamlit run main.py"
      ]
    },
    {
      "cell_type": "markdown",
      "metadata": {
        "id": "lXgySGVtixSE"
      },
      "source": [
        "# ex4"
      ]
    },
    {
      "cell_type": "code",
      "execution_count": null,
      "metadata": {
        "id": "mFS5HO42iyzn",
        "outputId": "44f65c4b-ac2a-4993-a752-12f90a40aa19",
        "colab": {
          "base_uri": "https://localhost:8080/",
          "height": 141
        }
      },
      "outputs": [
        {
          "output_type": "error",
          "ename": "NameError",
          "evalue": "name 'st' is not defined",
          "traceback": [
            "\u001b[0;31m---------------------------------------------------------------------------\u001b[0m",
            "\u001b[0;31mNameError\u001b[0m                                 Traceback (most recent call last)",
            "\u001b[0;32m<ipython-input-2-5e5cf78b63c0>\u001b[0m in \u001b[0;36m<cell line: 0>\u001b[0;34m()\u001b[0m\n\u001b[0;32m----> 1\u001b[0;31m \u001b[0mst\u001b[0m\u001b[0;34m.\u001b[0m\u001b[0mtext_input\u001b[0m\u001b[0;34m(\u001b[0m\u001b[0;34m'Favorite Movie?'\u001b[0m\u001b[0;34m)\u001b[0m\u001b[0;34m\u001b[0m\u001b[0;34m\u001b[0m\u001b[0m\n\u001b[0m",
            "\u001b[0;31mNameError\u001b[0m: name 'st' is not defined"
          ]
        }
      ],
      "source": [
        "st.text_input('Favorite Movie?')"
      ]
    },
    {
      "cell_type": "markdown",
      "metadata": {
        "id": "2Xp_zR-Ui0uT"
      },
      "source": [
        "ex5"
      ]
    },
    {
      "cell_type": "code",
      "execution_count": null,
      "metadata": {
        "id": "GvmQ9SRdi15B"
      },
      "outputs": [],
      "source": [
        "# this capture the return value into x\n",
        "x = st.text_input('Favorite Movie?')\n",
        "\n",
        "st.write(f\"Your favorite movie is: {x}\")"
      ]
    },
    {
      "cell_type": "markdown",
      "metadata": {
        "id": "1LeI6G2Ji5Ig"
      },
      "source": [
        "## ex6"
      ]
    },
    {
      "cell_type": "code",
      "execution_count": null,
      "metadata": {
        "id": "TR-RbqPMi7Zq"
      },
      "outputs": [],
      "source": [
        "is_clicked = st.button(\"Click Me\")"
      ]
    },
    {
      "cell_type": "markdown",
      "metadata": {
        "id": "7fx7Ofa1i9zA"
      },
      "source": [
        "## ex7"
      ]
    },
    {
      "cell_type": "code",
      "execution_count": null,
      "metadata": {
        "id": "_R_ejgbzi-71"
      },
      "outputs": [],
      "source": [
        "import streamlit as st\n",
        "\n",
        "st.write(\"## This is a H2 Title!\")\n",
        "\n",
        "st.markdown(\"*Streamlit* is **really** ***cool***.\")\n",
        "st.markdown('''\n",
        "    :red[Streamlit] :orange[can] :green[write] :blue[text] :violet[in]\n",
        "    :gray[pretty] :rainbow[colors] and :blue-background[highlight] text.''')\n",
        "st.markdown(\"Here's a bouquet &mdash;\\\n",
        "            :tulip::cherry_blossom::rose::hibiscus::sunflower::blossom:\")\n",
        "\n",
        "multi = '''If you end a line with two spaces,\n",
        "a soft return is used for the next line.\n",
        "\n",
        "Two (or more) newline characters in a row will result in a hard return.\n",
        "'''\n",
        "st.markdown(multi)"
      ]
    },
    {
      "cell_type": "markdown",
      "metadata": {
        "id": "ZFyXC0skjBnq"
      },
      "source": [
        "## ex8"
      ]
    },
    {
      "cell_type": "code",
      "execution_count": null,
      "metadata": {
        "id": "PiO5Lnx2jCtF"
      },
      "outputs": [],
      "source": [
        "import pandas as pd\n",
        "\n",
        "data = pd.read_csv(\"movies.csv\")\n",
        "# This shows the data in a nice table\n",
        "st.write(data)  # display the data inside the app"
      ]
    },
    {
      "cell_type": "markdown",
      "metadata": {
        "id": "MwAy-ebVjFAD"
      },
      "source": [
        "## ex09"
      ]
    },
    {
      "cell_type": "code",
      "execution_count": null,
      "metadata": {
        "id": "Rz_3V0pojGb1"
      },
      "outputs": [],
      "source": [
        "import numpy as np\n",
        "\n",
        "# Some random generated data\n",
        "chart_data = pd.DataFrame(\n",
        "    np.random.randn(20, 3),\n",
        "    columns=[\"a\", \"b\", \"c\"]\n",
        ")\n",
        "\n",
        "st.bar_chart(chart_data)\n",
        "st.line_chart(chart_data)"
      ]
    },
    {
      "cell_type": "markdown",
      "metadata": {
        "id": "omzkQvLYjI49"
      },
      "source": [
        "# ex10"
      ]
    },
    {
      "cell_type": "code",
      "execution_count": null,
      "metadata": {
        "id": "s3Zg2a_ijKTy"
      },
      "outputs": [],
      "source": [
        "project\n",
        "|___ main.py\n",
        "|___ pages\n",
        "     |___ 1_profile.py\n",
        "     |___ 2_dashboard.py"
      ]
    },
    {
      "cell_type": "markdown",
      "metadata": {
        "id": "jDxjHqJHlDR0"
      },
      "source": [
        "## ex11"
      ]
    },
    {
      "cell_type": "code",
      "execution_count": null,
      "metadata": {
        "id": "qTNw4jIilEoG",
        "outputId": "18482529-4178-4b90-9ec0-41fc153ad386",
        "colab": {
          "base_uri": "https://localhost:8080/",
          "height": 383
        }
      },
      "outputs": [
        {
          "output_type": "error",
          "ename": "ModuleNotFoundError",
          "evalue": "No module named 'streamlit'",
          "traceback": [
            "\u001b[0;31m---------------------------------------------------------------------------\u001b[0m",
            "\u001b[0;31mModuleNotFoundError\u001b[0m                       Traceback (most recent call last)",
            "\u001b[0;32m<ipython-input-1-9153ac7274ba>\u001b[0m in \u001b[0;36m<cell line: 0>\u001b[0;34m()\u001b[0m\n\u001b[0;32m----> 1\u001b[0;31m \u001b[0;32mimport\u001b[0m \u001b[0mstreamlit\u001b[0m \u001b[0;32mas\u001b[0m \u001b[0mst\u001b[0m\u001b[0;34m\u001b[0m\u001b[0;34m\u001b[0m\u001b[0m\n\u001b[0m\u001b[1;32m      2\u001b[0m \u001b[0;32mimport\u001b[0m \u001b[0mpandas\u001b[0m \u001b[0;32mas\u001b[0m \u001b[0mpd\u001b[0m\u001b[0;34m\u001b[0m\u001b[0;34m\u001b[0m\u001b[0m\n\u001b[1;32m      3\u001b[0m \u001b[0;32mimport\u001b[0m \u001b[0mmatplotlib\u001b[0m\u001b[0;34m.\u001b[0m\u001b[0mpyplot\u001b[0m \u001b[0;32mas\u001b[0m \u001b[0mplt\u001b[0m\u001b[0;34m\u001b[0m\u001b[0;34m\u001b[0m\u001b[0m\n\u001b[1;32m      4\u001b[0m \u001b[0;32mimport\u001b[0m \u001b[0mmath\u001b[0m\u001b[0;34m\u001b[0m\u001b[0;34m\u001b[0m\u001b[0m\n\u001b[1;32m      5\u001b[0m \u001b[0;34m\u001b[0m\u001b[0m\n",
            "\u001b[0;31mModuleNotFoundError\u001b[0m: No module named 'streamlit'",
            "",
            "\u001b[0;31m---------------------------------------------------------------------------\u001b[0;32m\nNOTE: If your import is failing due to a missing package, you can\nmanually install dependencies using either !pip or !apt.\n\nTo view examples of installing some common dependencies, click the\n\"Open Examples\" button below.\n\u001b[0;31m---------------------------------------------------------------------------\u001b[0m\n"
          ],
          "errorDetails": {
            "actions": [
              {
                "action": "open_url",
                "actionText": "Open Examples",
                "url": "/notebooks/snippets/importing_libraries.ipynb"
              }
            ]
          }
        }
      ],
      "source": [
        "import streamlit as st\n",
        "import pandas as pd\n",
        "import matplotlib.pyplot as plt\n",
        "import math\n",
        "\n",
        "st.title(\"Mortgage Repayments Calculator\")\n",
        "\n",
        "st.write(\"### Input Data\")\n",
        "col1, col2 = st.columns(2)  # Display elements in 2 column using the column component\n",
        "# Set a default value or minimum/maximum value\n",
        "home_value = col1.number_input(\"Home Value\", min_value=0, value=500000)\n",
        "deposit = col1.number_input(\"Deposit\", min_value=0, value=100000)\n",
        "interest_rate = col2.number_input(\"Interest Rate (in %)\", min_value=0.0, value=5.5)\n",
        "loan_term = col2.number_input(\"Loan Term (in years)\", min_value=1, value=30)\n",
        "\n",
        "# Calculate the repayments.\n",
        "loan_amount = home_value - deposit\n",
        "monthly_interest_rate = (interest_rate / 100) / 12\n",
        "number_of_payments = loan_term * 12\n",
        "monthly_payment = (\n",
        "    loan_amount\n",
        "    * (monthly_interest_rate * (1 + monthly_interest_rate) ** number_of_payments)\n",
        "    / ((1 + monthly_interest_rate) ** number_of_payments - 1)\n",
        ")\n",
        "\n",
        "# Display the repayments.\n",
        "total_payments = monthly_payment * number_of_payments\n",
        "total_interest = total_payments - loan_amount\n",
        "\n",
        "st.write(\"### Repayments\")\n",
        "col1, col2, col3 = st.columns(3)    # Create 3 columns\n",
        "col1.metric(label=\"Monthly Repayments\", value=f\"${monthly_payment:,.2f}\")\n",
        "col2.metric(label=\"Total Repayments\", value=f\"${total_payments:,.0f}\")\n",
        "col3.metric(label=\"Total Interest\", value=f\"${total_interest:,.0f}\")\n",
        "\n",
        "\n",
        "# Create a data-frame with the payment schedule.\n",
        "schedule = []\n",
        "remaining_balance = loan_amount\n",
        "\n",
        "for i in range(1, number_of_payments + 1):\n",
        "    interest_payment = remaining_balance * monthly_interest_rate\n",
        "    principal_payment = monthly_payment - interest_payment\n",
        "    remaining_balance -= principal_payment\n",
        "    year = math.ceil(i / 12)  # Calculate the year into the loan\n",
        "    schedule.append(\n",
        "        [\n",
        "            i,\n",
        "            monthly_payment,\n",
        "            principal_payment,\n",
        "            interest_payment,\n",
        "            remaining_balance,\n",
        "            year,\n",
        "        ]\n",
        "    )\n",
        "\n",
        "df = pd.DataFrame(\n",
        "    schedule,\n",
        "    columns=[\"Month\", \"Payment\", \"Principal\", \"Interest\", \"Remaining Balance\", \"Year\"],\n",
        ")\n",
        "\n",
        "# Display the data-frame as a chart.\n",
        "st.write(\"### Payment Schedule\")\n",
        "payments_df = df[[\"Year\", \"Remaining Balance\"]].groupby(\"Year\").min()\n",
        "st.line_chart(payments_df)"
      ]
    },
    {
      "cell_type": "markdown",
      "metadata": {
        "id": "cDdR1bMLlIrY"
      },
      "source": [
        "## ex12"
      ]
    },
    {
      "cell_type": "code",
      "execution_count": null,
      "metadata": {
        "id": "uTCmaz_SlNim"
      },
      "outputs": [],
      "source": [
        "pip freeze > requirements.txt"
      ]
    }
  ],
  "metadata": {
    "colab": {
      "provenance": [],
      "authorship_tag": "ABX9TyNPxiFsbh4rkqlxtjayeEvx",
      "include_colab_link": true
    },
    "kernelspec": {
      "display_name": "Python 3",
      "name": "python3"
    },
    "language_info": {
      "name": "python"
    }
  },
  "nbformat": 4,
  "nbformat_minor": 0
}